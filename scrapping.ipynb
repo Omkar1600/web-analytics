{
 "cells": [
  {
   "cell_type": "code",
   "execution_count": 1,
   "metadata": {},
   "outputs": [
    {
     "data": {
      "text/plain": [
       "Index(['URL_ID', 'URL'], dtype='object')"
      ]
     },
     "execution_count": 1,
     "metadata": {},
     "output_type": "execute_result"
    }
   ],
   "source": [
    "import pandas as pd\n",
    "import requests\n",
    "from bs4 import BeautifulSoup\n",
    "df=pd.read_excel('Input.xlsx')\n",
    "df.columns"
   ]
  },
  {
   "cell_type": "code",
   "execution_count": 22,
   "metadata": {},
   "outputs": [
    {
     "name": "stdout",
     "output_type": "stream",
     "text": [
      "145.0\n",
      "txtfiles/145.0.txt\n",
      "146.0\n",
      "txtfiles/146.0.txt\n",
      "147.0\n",
      "txtfiles/147.0.txt\n",
      "148.0\n",
      "txtfiles/148.0.txt\n",
      "149.0\n",
      "txtfiles/149.0.txt\n",
      "150.0\n",
      "txtfiles/150.0.txt\n"
     ]
    }
   ],
   "source": [
    "dict=df.to_dict()\n",
    "for i in range(108,len(dict['URL'])):\n",
    "    uid=dict['URL_ID'][i]\n",
    "    url=dict['URL'][i]\n",
    "    response = requests.get(url)\n",
    "    soup = BeautifulSoup(response.text, 'html.parser')\n",
    "    header = soup.find('h1', class_='entry-title')\n",
    "    header_text = header.text.strip()\n",
    "    div_tag = soup.find('div', class_='td-ss-main-content')\n",
    "    paragraphs = div_tag.find_all('p')\n",
    "    print(uid)\n",
    "    path='txtfiles/{}.txt'.format(uid)\n",
    "    print(path)\n",
    "    text=''\n",
    "    for p in paragraphs:\n",
    "        text=text +\" \"+ p.text\n",
    "    with open(path,'w',errors='ignore') as f:\n",
    "        f.write(header_text)\n",
    "        f.write(text)"
   ]
  },
  {
   "cell_type": "code",
   "execution_count": 53,
   "metadata": {},
   "outputs": [
    {
     "name": "stdout",
     "output_type": "stream",
     "text": [
      "37\n",
      "37.0\n",
      "txtfiles/37.0.txt\n",
      "51\n",
      "51.0\n",
      "txtfiles/51.0.txt\n",
      "91\n",
      "91.0\n",
      "txtfiles/91.0.txt\n",
      "92\n",
      "92.0\n",
      "txtfiles/92.0.txt\n",
      "100\n",
      "100.0\n",
      "txtfiles/100.0.txt\n",
      "107\n",
      "107.0\n",
      "txtfiles/107.0.txt\n",
      "108\n",
      "108.0\n",
      "txtfiles/108.0.txt\n",
      "112\n",
      "112.0\n",
      "txtfiles/112.0.txt\n"
     ]
    }
   ],
   "source": [
    "l=[37,51,91 ,92, 100 ,107 ,108, 112]\n",
    "for i in l:\n",
    "    print(i)\n",
    "    uid=dict['URL_ID'][i-37]\n",
    "    url=dict['URL'][i-37]\n",
    "    response = requests.get(url)\n",
    "    soup = BeautifulSoup(response.text, 'html.parser')\n",
    "    header = soup.find('h1', class_='tdb-title-text')\n",
    "    header_text = header.text.strip()\n",
    "   \n",
    "    div_tags = soup.find_all(\"div\", {\"class\": \"tdb-block-inner td-fix-index\"}) \n",
    "    text=''\n",
    "    for div_tag in div_tags:\n",
    "        paragraphs = div_tag.find_all(\"p\")\n",
    "        \n",
    "        for p in paragraphs:\n",
    "            text=text +\" \"+ p.text\n",
    "    print(uid)\n",
    "    path='txtfiles/{}.txt'.format(uid)\n",
    "    print(path)\n",
    "    with open(path,'w',errors='ignore') as f:\n",
    "        f.write(header_text)\n",
    "        f.write(text)\n",
    "    \n",
    "    \n",
    "   \n",
    "    \n",
    "\n",
    "    "
   ]
  }
 ],
 "metadata": {
  "kernelspec": {
   "display_name": "Python 3",
   "language": "python",
   "name": "python3"
  },
  "language_info": {
   "codemirror_mode": {
    "name": "ipython",
    "version": 3
   },
   "file_extension": ".py",
   "mimetype": "text/x-python",
   "name": "python",
   "nbconvert_exporter": "python",
   "pygments_lexer": "ipython3",
   "version": "3.10.2"
  },
  "orig_nbformat": 4
 },
 "nbformat": 4,
 "nbformat_minor": 2
}
